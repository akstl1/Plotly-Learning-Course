{
 "cells": [
  {
   "cell_type": "code",
   "execution_count": null,
   "id": "1a8f7f57",
   "metadata": {},
   "outputs": [],
   "source": [
    "#######\n",
    "# Objective: Using the \"flights\" dataset available\n",
    "# from the data folder as flights.csv\n",
    "# create a heatmap with the following parameters:\n",
    "# x-axis=\"year\"\n",
    "# y-axis=\"month\"\n",
    "# z-axis(color)=\"passengers\"\n",
    "######\n",
    "\n"
   ]
  },
  {
   "cell_type": "code",
   "execution_count": 1,
   "id": "f51f768f",
   "metadata": {},
   "outputs": [],
   "source": [
    "# Perform imports here:\n",
    "import pandas as pd\n",
    "import plotly.offline as pyo\n",
    "import plotly.graph_objs as go\n",
    "import plotly.express as px\n",
    "\n",
    "\n"
   ]
  },
  {
   "cell_type": "code",
   "execution_count": 3,
   "id": "d093cf37",
   "metadata": {},
   "outputs": [],
   "source": [
    "# Create a DataFrame from  \"flights\" data\n",
    "df = pd.read_csv('../data/flights.csv')\n",
    "\n"
   ]
  },
  {
   "cell_type": "code",
   "execution_count": 17,
   "id": "97755ae2",
   "metadata": {},
   "outputs": [],
   "source": [
    "# Define a data variable\n",
    "\n",
    "\n",
    "data=[go.Heatmap(x=df[\"year\"], y=df[\"month\"], z=df[\"passengers\"])]"
   ]
  },
  {
   "cell_type": "code",
   "execution_count": 18,
   "id": "2f17f647",
   "metadata": {},
   "outputs": [],
   "source": [
    "# Define the layout\n",
    "\n",
    "layout=go.Layout(title=\"Flights\")\n",
    "\n"
   ]
  },
  {
   "cell_type": "code",
   "execution_count": 19,
   "id": "a0063702",
   "metadata": {},
   "outputs": [],
   "source": [
    "# Create a fig from data and layout, and plot the fig\n",
    "\n",
    "fig = go.Figure(data=data,layout=layout)\n"
   ]
  },
  {
   "cell_type": "code",
   "execution_count": 20,
   "id": "c844b910",
   "metadata": {},
   "outputs": [
    {
     "data": {
      "text/plain": [
       "'temp-plot.html'"
      ]
     },
     "execution_count": 20,
     "metadata": {},
     "output_type": "execute_result"
    }
   ],
   "source": [
    "pyo.plot(fig)"
   ]
  }
 ],
 "metadata": {
  "kernelspec": {
   "display_name": "Python 3",
   "language": "python",
   "name": "python3"
  },
  "language_info": {
   "codemirror_mode": {
    "name": "ipython",
    "version": 3
   },
   "file_extension": ".py",
   "mimetype": "text/x-python",
   "name": "python",
   "nbconvert_exporter": "python",
   "pygments_lexer": "ipython3",
   "version": "3.8.8"
  }
 },
 "nbformat": 4,
 "nbformat_minor": 5
}
