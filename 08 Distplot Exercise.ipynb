{
 "cells": [
  {
   "cell_type": "code",
   "execution_count": null,
   "id": "c05efe71",
   "metadata": {},
   "outputs": [],
   "source": [
    "#######\n",
    "# Objective: Using the iris dataset, develop a Distplot\n",
    "# that compares the petal lengths of each class.\n",
    "# File: '../data/iris.csv'\n",
    "# Fields: 'sepal_length','sepal_width','petal_length','petal_width','class'\n",
    "# Classes: 'Iris-setosa','Iris-versicolor','Iris-virginica'\n",
    "######"
   ]
  },
  {
   "cell_type": "code",
   "execution_count": 3,
   "id": "03ef22e9",
   "metadata": {},
   "outputs": [],
   "source": [
    "# Perform imports here:\n",
    "import pandas as pd\n",
    "import plotly.offline as pyo\n",
    "import plotly.graph_objs as go\n",
    "import plotly.express as px\n",
    "import plotly.figure_factory as ff\n",
    "\n",
    "\n"
   ]
  },
  {
   "cell_type": "code",
   "execution_count": 2,
   "id": "bdb40965",
   "metadata": {},
   "outputs": [],
   "source": [
    "# create a DataFrame from the .csv file:\n",
    "\n",
    "df = pd.read_csv(\"../Data/iris.csv\")"
   ]
  },
  {
   "cell_type": "code",
   "execution_count": 4,
   "id": "efd2a9d5",
   "metadata": {},
   "outputs": [],
   "source": [
    "# Define the traces\n",
    "\n",
    "setosa=df[df['class']=='Iris-setosa']['petal_length']\n",
    "versicolor=df[df['class']=='Iris-versicolor']['petal_length']\n",
    "virginica=df[df['class']=='Iris-virginica']['petal_length']\n",
    "\n",
    "hist_data=[setosa,versicolor,virginica]\n",
    "group_labels=['Iris-setosa','Iris-versicolor','Iris-virginica']\n",
    "\n",
    "\n"
   ]
  },
  {
   "cell_type": "code",
   "execution_count": 6,
   "id": "0ed1f033",
   "metadata": {},
   "outputs": [],
   "source": [
    "# Define a data variable\n",
    "\n",
    "\n"
   ]
  },
  {
   "cell_type": "code",
   "execution_count": 7,
   "id": "fa90a19a",
   "metadata": {},
   "outputs": [
    {
     "data": {
      "text/plain": [
       "'temp-plot.html'"
      ]
     },
     "execution_count": 7,
     "metadata": {},
     "output_type": "execute_result"
    }
   ],
   "source": [
    "# Create a fig from data and layout, and plot the fig\n",
    "fig = ff.create_distplot(hist_data,group_labels)\n",
    "layout=\n",
    "pyo.plot(fig)"
   ]
  }
 ],
 "metadata": {
  "kernelspec": {
   "display_name": "Python 3",
   "language": "python",
   "name": "python3"
  },
  "language_info": {
   "codemirror_mode": {
    "name": "ipython",
    "version": 3
   },
   "file_extension": ".py",
   "mimetype": "text/x-python",
   "name": "python",
   "nbconvert_exporter": "python",
   "pygments_lexer": "ipython3",
   "version": "3.8.8"
  }
 },
 "nbformat": 4,
 "nbformat_minor": 5
}
